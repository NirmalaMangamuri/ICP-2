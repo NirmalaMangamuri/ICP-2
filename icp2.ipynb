{
  "nbformat": 4,
  "nbformat_minor": 0,
  "metadata": {
    "colab": {
      "provenance": [],
      "authorship_tag": "ABX9TyM9MyhoUT18Rn8kUp8wHk3I",
      "include_colab_link": true
    },
    "kernelspec": {
      "name": "python3",
      "display_name": "Python 3"
    },
    "language_info": {
      "name": "python"
    }
  },
  "cells": [
    {
      "cell_type": "markdown",
      "metadata": {
        "id": "view-in-github",
        "colab_type": "text"
      },
      "source": [
        "<a href=\"https://colab.research.google.com/github/NirmalaMangamuri/ICP-2/blob/main/icp2.ipynb\" target=\"_parent\"><img src=\"https://colab.research.google.com/assets/colab-badge.svg\" alt=\"Open In Colab\"/></a>"
      ]
    },
    {
      "cell_type": "code",
      "execution_count": null,
      "metadata": {
        "id": "Pj6fvPiTu1ng"
      },
      "outputs": [],
      "source": []
    },
    {
      "cell_type": "markdown",
      "source": [
        "# The Difference between the Counter.count and self._count:\n",
        "**Counter.count**\n",
        "\n",
        "It is a class variable which tracks all the increments from all the objects.\n",
        "From the given code the total increments is 3.\n",
        "\n",
        "**Self._count**:\n",
        "\n",
        "It is a instance variable and it tracks Increments for one object.\n",
        "from the given code :2 for a, 1 for b."
      ],
      "metadata": {
        "id": "nCiTcRyfu2Ga"
      }
    },
    {
      "cell_type": "markdown",
      "source": [
        "# The output of a.get_counts() and b.get_counts()?\n",
        "**a.get_counts():**\n",
        "Instance count: 2, Class count: 3\n",
        "\n",
        "**b.get_counts():**\n",
        "Instance count: 1, Class count: 3"
      ],
      "metadata": {
        "id": "eSzKQZ5NweB8"
      }
    },
    {
      "cell_type": "markdown",
      "source": [
        "# How does the increment method affect the variables\n",
        "When it comes to the class variables it effects all the objects i.e.,Increases for all objects.\n",
        "When it comes to the instance variables it applies to only one particular object.i.e,Increases only for that object."
      ],
      "metadata": {
        "id": "TT5WyB2bxdJA"
      }
    },
    {
      "cell_type": "code",
      "source": [
        "def sum_all(*args):\n",
        "    return sum(args)\n",
        "\n",
        "print(\"Sum of 1, 2, 3 is:\", sum_all(1, 2, 3))\n",
        "print(\"Sum of 4, 5, 6, 7 is:\", sum_all(4, 5, 6, 7))\n"
      ],
      "metadata": {
        "colab": {
          "base_uri": "https://localhost:8080/"
        },
        "id": "UdtmI1kWy4Q6",
        "outputId": "bf182cb9-433e-4728-fc8f-023abbd0befe"
      },
      "execution_count": 2,
      "outputs": [
        {
          "output_type": "stream",
          "name": "stdout",
          "text": [
            "Sum of 1, 2, 3 is: 6\n",
            "Sum of 4, 5, 6, 7 is: 22\n"
          ]
        }
      ]
    },
    {
      "cell_type": "code",
      "source": [
        "def first_word(word_list):\n",
        "    return sorted(word_list)[0]\n",
        "students = ['Mary', 'Zelda', 'Jimmy', 'Jack', 'Bartholomew', 'Gertrude']\n",
        "print(first_word(students))"
      ],
      "metadata": {
        "colab": {
          "base_uri": "https://localhost:8080/"
        },
        "id": "Ivjorr6C0ebR",
        "outputId": "c3bcc97d-efd2-4593-d167-9156ea1ed751"
      },
      "execution_count": 6,
      "outputs": [
        {
          "output_type": "stream",
          "name": "stdout",
          "text": [
            "Bartholomew\n"
          ]
        }
      ]
    },
    {
      "cell_type": "code",
      "source": [
        "class Employee:\n",
        "    count = 0\n",
        "    total_salary = 0\n",
        "\n",
        "    def __init__(self, name, family, salary, department):\n",
        "        self.name = name\n",
        "        self.family = family\n",
        "        self.salary = salary\n",
        "        self.department = department\n",
        "\n",
        "        Employee.count += 1\n",
        "        Employee.total_salary += salary\n",
        "\n",
        "    @classmethod\n",
        "    def average_salary(cls):\n",
        "        return cls.total_salary / cls.count if cls.count else 0\n",
        "\n",
        "class FulltimeEmployee(Employee):\n",
        "    pass\n",
        "\n",
        "# Create instances\n",
        "e1 = Employee(\"Amar\", \"Sai\", 60000, \"HR\")\n",
        "e2 = FulltimeEmployee(\"Raj\", \"Johnson\", 75000, \"Engineering\")\n",
        "e3 = FulltimeEmployee(\"Charlie\", \"Brown\", 85000, \"Marketing\")\n",
        "\n",
        "# Outputs\n",
        "print(\"Total Employees:\", Employee.count)\n",
        "print(\"Average Salary:\", Employee.average_salary())\n"
      ],
      "metadata": {
        "colab": {
          "base_uri": "https://localhost:8080/"
        },
        "id": "H14XZyaW1Ki9",
        "outputId": "d4515784-c041-48fd-9467-f937463c0cd2"
      },
      "execution_count": 1,
      "outputs": [
        {
          "output_type": "stream",
          "name": "stdout",
          "text": [
            "Total Employees: 3\n",
            "Average Salary: 73333.33333333333\n"
          ]
        }
      ]
    }
  ]
}